{
 "cells": [
  {
   "cell_type": "markdown",
   "id": "6149c027-7243-43e1-b4eb-0c408716fdf1",
   "metadata": {},
   "source": [
    "# All About Qubits"
   ]
  },
  {
   "cell_type": "code",
   "execution_count": 1,
   "id": "26add783-27a0-45e8-b1ec-9ed6c065be04",
   "metadata": {
    "jupyter": {
     "source_hidden": true
    }
   },
   "outputs": [],
   "source": [
    "import numpy as np\n",
    "import pennylane as qml"
   ]
  },
  {
   "cell_type": "markdown",
   "id": "4de9e140-40df-4246-98ed-820d93874c1e",
   "metadata": {},
   "source": [
    "**What is Quantum Computing?**\n",
    "\n",
    "We already know how computers use \"bits\" to store and process information? Like, a bit can be either 0 or 1. Well, quantum computing\n",
    "is different. It uses special bits called \"qubits\". These qubits behave differently compared to classical bits - they can exist\n",
    "in many states at the same time.\n",
    "\n",
    "**What's Superposition?**\n",
    "\n",
    "Let's imagine we have a coin. Heads or tails, it's one or the other, but with a qubit it's like the coin is both heads AND tails at the same\n",
    "time. This property of being able to be in multiple states simultaneously is called superposition.\n",
    "\n",
    "**How Do We Describe Qubits Mathematically?**\n",
    "\n",
    "We represent qubits as vectors in a complex vector space. Think of it like this: if we have two states, $|0\\rangle$ and $|1\\rangle$, \n",
    "the qubit can be a combination of both at the same time.\n",
    "\n",
    "**The `normalize_state` function**\n",
    "\n",
    "This function takes two complex numbers: `alpha` and `beta`, representing the amplitudes associated with $|0\\rangle$ and $|1\\rangle$, respectively.\n",
    "Its purpose is to return a normalized vector representation of these states."
   ]
  },
  {
   "cell_type": "code",
   "execution_count": 2,
   "id": "8f8ce813-3b91-4678-a024-5795be323e56",
   "metadata": {},
   "outputs": [],
   "source": [
    "# Here are the vector representations of |0> and |1>, for convenience\n",
    "ket_0 = np.array([1, 0])\n",
    "ket_1 = np.array([0, 1])\n",
    "\n",
    "def normalize_state(alpha, beta):\n",
    "    # CREATE A VECTOR [a', b'] BASED ON alpha AND beta SUCH THAT |a'|^2 + |b'|^2 = 1\n",
    "    res = np.array([alpha*np.sqrt(1/(abs(alpha)**2 + abs(beta)**2)), beta*np.sqrt(1/(abs(alpha)**2 + abs(beta)**2))])\n",
    "    # RETURN A VECTOR\n",
    "    return res"
   ]
  },
  {
   "cell_type": "markdown",
   "id": "126a01ac-515a-4960-950d-91b27f0f0cca",
   "metadata": {},
   "source": [
    "**What's the Inner Product?**\n",
    "\n",
    "The inner product is a way to measure how similar or different two vectors are. Imagine taking a dot product between\n",
    "two vectors that represent the qubits. This gives us an idea of how much they have in common or differ from each other.\n",
    "\n",
    "**The `inner_product` function**\n",
    "\n",
    "We define a function `inner_product` that takes two qubit states (represented as NumPy arrays) and returns their\n",
    "inner product.\n",
    "\n",
    "The function uses NumPy's `inner` function to compute the dot product between the conjugate of `state_1` and `state_2`.\n"
   ]
  },
  {
   "cell_type": "code",
   "execution_count": 3,
   "id": "a90b6d10-ff2d-4107-8023-80ee6b052fb7",
   "metadata": {},
   "outputs": [
    {
     "name": "stdout",
     "output_type": "stream",
     "text": [
      "<0|0> = 1\n",
      "<0|1> = 0\n",
      "<1|0> = 0\n",
      "<1|1> = 1\n"
     ]
    }
   ],
   "source": [
    "def inner_product(state_1, state_2):\n",
    "    # COMPUTE AND RETURN THE INNER PRODUCT\n",
    "    inner = np.inner(np.conjugate(state_1), state_2)\n",
    "    return inner\n",
    "\n",
    "# Test your results with this code\n",
    "ket_0 = np.array([1, 0])\n",
    "ket_1 = np.array([0, 1])\n",
    "\n",
    "print(f\"<0|0> = {inner_product(ket_0, ket_0)}\")\n",
    "print(f\"<0|1> = {inner_product(ket_0, ket_1)}\")\n",
    "print(f\"<1|0> = {inner_product(ket_1, ket_0)}\")\n",
    "print(f\"<1|1> = {inner_product(ket_1, ket_1)}\")"
   ]
  },
  {
   "cell_type": "markdown",
   "id": "cd26b5dd-306c-4270-9d71-bc1690d03bf7",
   "metadata": {},
   "source": [
    "**The `measure_state` function**\n",
    "\n",
    "We're simulating a quantum measurement process. In this context, \"measurement\" means determining the state of a qubit (quantum bit) by\n",
    "observing it.\n",
    "\n",
    "It takes two inputs:\n",
    "\n",
    "1. `state`: A normalized qubit state vector represented as a NumPy array `[a, b]`, where `a` and `b` are complex numbers.\n",
    "2. `num_meas`: An integer indicating the number of measurements to take.\n",
    "\n",
    "This function simulates a measurement process by generating a set of measurement outcomes according to the probability distribution defined\n",
    "by the input state."
   ]
  },
  {
   "cell_type": "code",
   "execution_count": 4,
   "id": "d606854e-5c71-4736-b81d-a6f1e059523d",
   "metadata": {},
   "outputs": [],
   "source": [
    "def measure_state(state, num_meas):\n",
    "    # COMPUTE THE MEASUREMENT OUTCOME PROBABILITIES\n",
    "    probs = [abs(state[0])**2, abs(state[1])**2]\n",
    "    # RETURN A LIST OF SAMPLE MEASUREMENT OUTCOMES\n",
    "    measurements = np.random.choice(a=[0,1], size = num_meas, p=probs)\n",
    "    return measurements"
   ]
  },
  {
   "cell_type": "code",
   "execution_count": 5,
   "id": "b76fae9f-8f2d-4c9a-863e-4aec66e0f6d6",
   "metadata": {},
   "outputs": [
    {
     "data": {
      "text/plain": [
       "array([1, 0, 0, 0, 0, 0, 0, 0, 1, 1, 0, 0, 1, 1, 0, 1, 0, 1, 0, 0])"
      ]
     },
     "execution_count": 5,
     "metadata": {},
     "output_type": "execute_result"
    }
   ],
   "source": [
    "measure_state([0.8, 0.6], 20)"
   ]
  },
  {
   "cell_type": "markdown",
   "id": "0aa22c2d-a6de-4ad2-b163-c6d2cbf7f039",
   "metadata": {},
   "source": [
    "**The `apply_u` function**\n",
    "\n",
    "We're defining a quantum operation, represented by the matrix `U`. This matrix is used to transform an input state into a new output state.\n",
    "\n",
    "This function applies the quantum operation `U` to the input state `state`. The resulting output state is then returned."
   ]
  },
  {
   "cell_type": "code",
   "execution_count": 6,
   "id": "9147554b-14c8-454d-b2f2-e5f195c20362",
   "metadata": {},
   "outputs": [
    {
     "data": {
      "text/plain": [
       "array([0.98994949, 0.14142136])"
      ]
     },
     "execution_count": 6,
     "metadata": {},
     "output_type": "execute_result"
    }
   ],
   "source": [
    "U = np.array([[1, 1], [1, -1]]) / np.sqrt(2)\n",
    "\n",
    "\n",
    "def apply_u(state):\n",
    "    # APPLY U TO THE INPUT STATE AND RETURN THE NEW STATE\n",
    "    res = U @ state\n",
    "    return res\n",
    "\n",
    "apply_u([0.8,0.6])"
   ]
  },
  {
   "cell_type": "code",
   "execution_count": 7,
   "id": "7803b34d-2306-46a8-abf9-e85dbcb97f5f",
   "metadata": {},
   "outputs": [],
   "source": [
    "U = np.array([[1, 1], [1, -1]]) / np.sqrt(2)\n",
    "\n",
    "\n",
    "def initialize_state():\n",
    "    # PREPARE THE STATE |0>\n",
    "    return np.array([1,0])\n",
    "\n",
    "\n",
    "def apply_u(state):\n",
    "    return np.dot(U, state)\n",
    "\n",
    "\n",
    "def measure_state(state, num_meas):\n",
    "    p_alpha = np.abs(state[0]) ** 2\n",
    "    p_beta = np.abs(state[1]) ** 2\n",
    "    meas_outcome = np.random.choice([0, 1], p=[p_alpha, p_beta], size=num_meas)\n",
    "    return meas_outcome\n",
    "\n",
    "\n",
    "def quantum_algorithm():\n",
    "    # PREPARE THE STATE, APPLY U, THEN TAKE 100 MEASUREMENT SAMPLES\n",
    "    return measure_state(apply_u(initialize_state()), 100)"
   ]
  },
  {
   "cell_type": "markdown",
   "id": "68567c5b-5319-48d0-b211-ec755ec4bc94",
   "metadata": {},
   "source": [
    "# Quantum Circuits"
   ]
  },
  {
   "cell_type": "markdown",
   "id": "07c559fd-6cf8-487c-ad38-389ec95b6e59",
   "metadata": {},
   "source": [
    "In a quantum circuit, we're working with a series of quantum gates that manipulate qubits. We can think of it like a staff filled\n",
    "with musical notes, to express its artistic potential. \n",
    "\n",
    "**Visualizing Quantum Algorithms**\n",
    "\n",
    "Imagine a flowchart for quantum algorithms. Each step is represented by a specific gate or operation applied to the qubits. This visual\n",
    "representation helps us understand how the algorithm works and makes it easier to debug.\n",
    "\n",
    "**Gates and Operations**\n",
    "\n",
    "These are the quantum equivalent of logic gates in digital circuits. Here are some common ones:\n",
    "\n",
    "* **Hadamard gate (H)**: Creates a superposition of 0 and 1.\n",
    "* **Pauli-X gate**: Flips the state of a qubit.\n",
    "* **Controlled-NOT gate (CNOT)**: A two-qubit operation that applies an X gate to one qubit based on the state of another.\n",
    "\n",
    "**Measurements**\n",
    "\n",
    "These are the points in the circuit where we observe the state of our qubits. Measurements \"collapse\" superpositions into definite outcomes,\n",
    "which is how we extract information from quantum systems.\n",
    "\n",
    "The following code snippets show how to create a `device` and a `QNode` in *Pennylane*, how to use a set of quantum gates and how to interpret the circuit depth."
   ]
  },
  {
   "cell_type": "code",
   "execution_count": 8,
   "id": "58570c34-5aa3-4184-9dbe-7381bf1fe638",
   "metadata": {},
   "outputs": [],
   "source": [
    "def my_circuit(theta, phi):\n",
    "    qml.CNOT(wires=[0, 1])\n",
    "    qml.RX(theta, wires=2)\n",
    "    qml.Hadamard(wires=0)\n",
    "    qml.CNOT(wires=[2, 0])\n",
    "    qml.RY(phi, wires=1)\n",
    "\n",
    "    # This is the measurement; we return the probabilities of all possible output states\n",
    "    # You'll learn more about what types of measurements are available in a later node\n",
    "    return qml.probs(wires=[0, 1, 2])\n"
   ]
  },
  {
   "cell_type": "code",
   "execution_count": 9,
   "id": "d28ab795-000c-4137-b6db-37c001ec291a",
   "metadata": {},
   "outputs": [
    {
     "data": {
      "text/plain": [
       "tensor([9.87560268e-01, 0.00000000e+00, 0.00000000e+00, 2.47302134e-03,\n",
       "        2.48960206e-05, 0.00000000e+00, 0.00000000e+00, 9.94181506e-03], requires_grad=True)"
      ]
     },
     "execution_count": 9,
     "metadata": {},
     "output_type": "execute_result"
    }
   ],
   "source": [
    "# This creates a device with three wires on which PennyLane can run computations\n",
    "dev = qml.device(\"default.qubit\", wires=3)\n",
    "\n",
    "def my_circuit(theta, phi, omega):\n",
    "    # IMPLEMENT THE CIRCUIT BY ADDING THE GATES\n",
    "    qml.RX(theta, wires=0)\n",
    "    qml.RY(phi, wires=1)\n",
    "    qml.RZ(omega, wires=2)\n",
    "    qml.CNOT(wires=[0, 1])\n",
    "    qml.CNOT(wires=[1, 2])\n",
    "    qml.CNOT(wires=[2, 0])\n",
    "\n",
    "    return qml.probs(wires=[0, 1, 2])\n",
    "\n",
    "# This creates a QNode, binding the function and device\n",
    "my_qnode = qml.QNode(my_circuit, dev)\n",
    "\n",
    "# We set up some values for the input parameters\n",
    "theta, phi, omega = 0.1, 0.2, 0.3\n",
    "\n",
    "# Now we can execute the QNode by calling it like we would a regular function\n",
    "my_qnode(theta, phi, omega)"
   ]
  },
  {
   "cell_type": "code",
   "execution_count": 10,
   "id": "a2869b10-72a9-4cdf-bf3a-a956274e1619",
   "metadata": {},
   "outputs": [
    {
     "data": {
      "text/plain": [
       "tensor([9.87560268e-01, 0.00000000e+00, 0.00000000e+00, 2.47302134e-03,\n",
       "        2.48960206e-05, 0.00000000e+00, 0.00000000e+00, 9.94181506e-03], requires_grad=True)"
      ]
     },
     "execution_count": 10,
     "metadata": {},
     "output_type": "execute_result"
    }
   ],
   "source": [
    "dev = qml.device(\"default.qubit\", wires=3)\n",
    "# DECORATE THE FUNCTION BELOW TO TURN IT INTO A QNODE\n",
    "\n",
    "@qml.qnode(dev)\n",
    "def my_circuit(theta, phi, omega):\n",
    "    qml.RX(theta, wires=0)\n",
    "    qml.RY(phi, wires=1)\n",
    "    qml.RZ(omega, wires=2)\n",
    "    qml.CNOT(wires=[0, 1])\n",
    "    qml.CNOT(wires=[1, 2])\n",
    "    qml.CNOT(wires=[2, 0])\n",
    "    return qml.probs(wires=[0, 1, 2])\n",
    "\n",
    "\n",
    "theta, phi, omega = 0.1, 0.2, 0.3\n",
    "\n",
    "# RUN THE QNODE WITH THE PROVIDED PARAMETERS\n",
    "my_circuit(theta, phi, omega)"
   ]
  },
  {
   "cell_type": "code",
   "execution_count": 11,
   "id": "9c22241e-098c-4486-b786-e18bdee1986a",
   "metadata": {},
   "outputs": [],
   "source": [
    "dev = qml.device(\"default.qubit\", wires=3)\n",
    "\n",
    "\n",
    "@qml.qnode(dev)\n",
    "def my_circuit(theta, phi, omega):\n",
    "    qml.RX(theta, wires=0)\n",
    "    qml.RY(phi, wires=1)\n",
    "    qml.RZ(omega, wires=2)\n",
    "    qml.CNOT(wires=[0, 1])\n",
    "    qml.CNOT(wires=[1, 2])\n",
    "    qml.CNOT(wires=[2, 0])\n",
    "    return qml.probs(wires=[0, 1, 2])\n",
    "\n",
    "# FILL IN THE CORRECT CIRCUIT DEPTH\n",
    "depth = 4"
   ]
  },
  {
   "cell_type": "markdown",
   "id": "ada39f3a-ecdc-45ac-8457-e3c8d605d0aa",
   "metadata": {},
   "source": [
    "# Unitary Matrices"
   ]
  },
  {
   "cell_type": "markdown",
   "id": "e9219d6c-f879-4e85-991b-81c3199fbdea",
   "metadata": {},
   "source": [
    "In quantum mechanics, a **unitary operator** is an operator that preserves the norm of a vector when applied to it. In other words, if\n",
    "we have a vector $|\\psi\\rangle$, applying a unitary operator $U$ to it will result in another vector $|\\phi\\rangle = U |\\psi\\rangle$, such that the norm (or length) of $|\\phi\\rangle$ is equal to the norm of $|\\psi\\rangle$.\n",
    "\n",
    "Unitary operators are important in quantum mechanics because they describe transformations that leave the probability amplitudes of\n",
    "states unchanged. In other words, unitaries are \"reversible\" and do not destroy any information about the original state.\n",
    "\n",
    "In matrix form, a unitary operator is represented by a square matrix $U$ such that:\n",
    "\n",
    "1. The matrix $U$ has complex entries.\n",
    "2. The transpose (or conjugate transpose) of $U$, denoted as $U^{\\dagger}$ or $U^*$, satisfies: $UU^{\\dagger} = U^{\\dagger}U = I$"
   ]
  },
  {
   "cell_type": "code",
   "execution_count": 12,
   "id": "da7e4e8d-1a84-41fd-81ba-c85ebd6f584c",
   "metadata": {},
   "outputs": [],
   "source": [
    "dev = qml.device(\"default.qubit\", wires=1)\n",
    "\n",
    "U = np.array([[1, 1], [1, -1]]) / np.sqrt(2)\n",
    "\n",
    "@qml.qnode(dev)\n",
    "def apply_u():\n",
    "    # USE QubitUnitary TO APPLY U TO THE QUBIT\n",
    "    qml.QubitUnitary(U, wires=0)\n",
    "    # Return the state\n",
    "    return qml.state()"
   ]
  },
  {
   "cell_type": "markdown",
   "id": "c1111c6d-816e-4e16-8a5d-6b081369eeb0",
   "metadata": {},
   "source": [
    "A **parametrized unitary** is a unitary operator that depends on one or more parameters (angles)."
   ]
  },
  {
   "cell_type": "code",
   "execution_count": 13,
   "id": "6bfadc0e-dc48-43f8-a1c0-25c87ff2ef5e",
   "metadata": {},
   "outputs": [],
   "source": [
    "dev = qml.device(\"default.qubit\", wires=1)\n",
    "\n",
    "@qml.qnode(dev)\n",
    "def apply_u_as_rot(phi, theta, omega):\n",
    "    # APPLY A ROT GATE USING THE PROVIDED INPUT PARAMETERS\n",
    "    qml.Rot(phi, theta, omega, wires=0)\n",
    "    # RETURN THE QUANTUM STATE VECTOR\n",
    "\n",
    "    return qml.state()\n"
   ]
  },
  {
   "cell_type": "markdown",
   "id": "0c5ad9ff-20fe-4c8b-8980-f212088728b8",
   "metadata": {},
   "source": [
    "# X and H"
   ]
  },
  {
   "cell_type": "markdown",
   "id": "64d339d2-f9b3-4662-aadc-cc1cac0ae2ed",
   "metadata": {},
   "source": [
    "**X gate (Pauli-X)**\n",
    "\n",
    "The X gate is a quantum gate that flips the state of a qubit. In other words, it takes the $|0\\rangle$ state to the $|1\\rangle$ state and vice versa.\n",
    "\n",
    "Mathematically, the X gate can be represented by the following matrix:\n",
    "\n",
    "$X = \\begin{bmatrix} 0 & 1 \\\\  1 & 0 \\end{bmatrix}$\n",
    "\n",
    "**Hadamard gate (H)**\n",
    "\n",
    "The Hadamard gate is a quantum gate that creates a superposition of two states. Specifically, it takes the $|0\\rangle$ state to an equal\n",
    "superposition of $|0\\rangle$ and $|1\\rangle$:\n",
    "\n",
    "$|0\\rangle = {1 \\over \\sqrt{2}} \\cdot (|0\\rangle + |1\\rangle)$\n",
    "\n",
    "Mathematically, the Hadamard gate can be represented by the following matrix:\n",
    "\n",
    "$H = {1 \\over \\sqrt{2}} \\cdot \\begin{bmatrix}1 & 1 \\\\  1 & -1 \\end{bmatrix}$\n"
   ]
  },
  {
   "cell_type": "code",
   "execution_count": 14,
   "id": "ddbcdd9d-9d4e-470c-92cc-5b40c6893a3d",
   "metadata": {},
   "outputs": [],
   "source": [
    "dev = qml.device(\"default.qubit\", wires=1)\n",
    "\n",
    "U = np.array([[1, 1], [1, -1]]) / np.sqrt(2)\n",
    "\n",
    "@qml.qnode(dev)\n",
    "def varied_initial_state(state):\n",
    "    # KEEP THE QUBIT IN |0> OR CHANGE IT TO |1> DEPENDING ON THE state PARAMETER\n",
    "    if state:\n",
    "        qml.PauliX(wires=0)\n",
    "    # APPLY U TO THE STATE\n",
    "    qml.QubitUnitary(U, wires=0)\n",
    "    \n",
    "    return qml.state()"
   ]
  },
  {
   "cell_type": "code",
   "execution_count": 15,
   "id": "6efb4fca-bf1a-430c-8736-db78150e8397",
   "metadata": {},
   "outputs": [],
   "source": [
    "dev = qml.device(\"default.qubit\", wires=1)\n",
    "\n",
    "@qml.qnode(dev)\n",
    "def apply_hadamard():\n",
    "    # APPLY THE HADAMARD GATE\n",
    "    qml.Hadamard(wires=0)\n",
    "    # RETURN THE STATE\n",
    "    return qml.state()"
   ]
  },
  {
   "cell_type": "code",
   "execution_count": 16,
   "id": "22dd6e70-64e7-4d40-89c5-323977c3fb9e",
   "metadata": {},
   "outputs": [
    {
     "name": "stdout",
     "output_type": "stream",
     "text": [
      "[1.+0.j 0.+0.j]\n",
      "[ 0.+0.j -1.+0.j]\n"
     ]
    }
   ],
   "source": [
    "# CREATE A DEVICE\n",
    "dev = qml.device(\"default.qubit\", wires=1)\n",
    "# CREATE A QNODE CALLED apply_hxh THAT APPLIES THE CIRCUIT ABOVE\n",
    "\n",
    "@qml.qnode(dev)\n",
    "def apply_hxh(state):\n",
    "    if state:\n",
    "        qml.PauliX(wires=0)\n",
    "\n",
    "    qml.Hadamard(wires=0)\n",
    "    qml.PauliX(wires=0)\n",
    "    qml.Hadamard(wires=0)\n",
    "\n",
    "    return qml.state()\n",
    "    \n",
    "# Print your results\n",
    "print(apply_hxh(0))\n",
    "print(apply_hxh(1))"
   ]
  },
  {
   "cell_type": "markdown",
   "id": "b4e0e098-5301-4c9e-b266-0ac90a762047",
   "metadata": {},
   "source": [
    "# It's Just a Phase"
   ]
  },
  {
   "cell_type": "markdown",
   "id": "085a0a4f-c976-4a9c-b0f0-c89120e1345e",
   "metadata": {},
   "source": [
    "**Z gate**\n",
    "\n",
    "The Z gate is a quantum gate that applies a phase rotation to a qubit. Specifically, it multiplies the $|1\\rangle$ state by $-1$, leaving the $|0\\rangle$ state unchanged.\n",
    "The Z gate can be represented by the following matrix:\n",
    "\n",
    "$Z = \\begin{bmatrix} 1 & 0 \\\\  0 & -1 \\end{bmatrix}$\n",
    "\n",
    "It is useful for creating quantum algorithms that rely on phase information.\n",
    "\n",
    "**S gate (half-phase shift)**\n",
    "\n",
    "The S gate is a quantum gate that applies a π/2 phase rotation to a qubit.\n",
    "The S gate can be mathematically represented by the following matrix:\n",
    "\n",
    "$S = \\begin{bmatrix} 1 & 0 \\\\  0 & i \\end{bmatrix}$\n",
    "\n",
    "**T gate (quarter-phase shift)**\n",
    "\n",
    "The T gate is a quantum gate that applies a π/4 phase rotation to a qubit.\n",
    "The T gate can be represented as:\n",
    "\n",
    "$T = \\begin{bmatrix} 1 & 0 \\\\  0 & e^{i \\pi \\over 4} \\end{bmatrix}$\n"
   ]
  },
  {
   "cell_type": "code",
   "execution_count": 17,
   "id": "a745a30e-9719-4f26-a2cd-27bcb9644bdf",
   "metadata": {},
   "outputs": [
    {
     "name": "stdout",
     "output_type": "stream",
     "text": [
      "[ 0.70710678+0.j -0.70710678+0.j]\n"
     ]
    }
   ],
   "source": [
    "dev = qml.device(\"default.qubit\", wires=1)\n",
    "\n",
    "@qml.qnode(dev)\n",
    "def apply_z_to_plus():\n",
    "    # CREATE THE |+> STATE\n",
    "    qml.Hadamard(wires=0)\n",
    "    # APPLY PAULI Z\n",
    "    qml.PauliZ(wires=0)\n",
    "    # RETURN THE STATE\n",
    "    return qml.state()\n",
    "\n",
    "print(apply_z_to_plus())\n"
   ]
  },
  {
   "cell_type": "code",
   "execution_count": 18,
   "id": "68438327-7992-43b3-b3fc-04a4836fe52c",
   "metadata": {},
   "outputs": [],
   "source": [
    "dev = qml.device(\"default.qubit\", wires=1)\n",
    "\n",
    "@qml.qnode(dev)\n",
    "def fake_z():\n",
    "    # CREATE THE |+> STATE\n",
    "    qml.Hadamard(wires=0)\n",
    "    # APPLY RZ\n",
    "    qml.RZ(qml.numpy.pi, wires=0)\n",
    "    # RETURN THE STATE\n",
    "    return qml.state()"
   ]
  },
  {
   "cell_type": "code",
   "execution_count": 19,
   "id": "1c8b2bcb-d56a-4f9a-a0a7-1f1e2cfdfc60",
   "metadata": {},
   "outputs": [],
   "source": [
    "dev = qml.device(\"default.qubit\", wires=1)\n",
    "\n",
    "@qml.qnode(dev)\n",
    "def many_rotations():\n",
    "    # IMPLEMENT THE CIRCUIT\n",
    "    qml.Hadamard(wires=0)\n",
    "    qml.S(wires=0)\n",
    "    qml.adjoint(qml.T)(wires=0)\n",
    "    qml.RZ(0.3, 0)\n",
    "    qml.adjoint(qml.S)(wires=0)\n",
    "    # RETURN THE STATE\n",
    "\n",
    "    return qml.state()"
   ]
  },
  {
   "cell_type": "markdown",
   "id": "4bd3c9ca-1e7f-44dc-8220-5adb6343bb3c",
   "metadata": {},
   "source": [
    "# From a Different Angle"
   ]
  },
  {
   "cell_type": "markdown",
   "id": "115e042d-112b-4bf3-9d64-5b226a4f0a8a",
   "metadata": {},
   "source": [
    "The rotation gates, such as RZ, RX and RY, are a family of quantum gates that apply a rotation to a qubit around one of\n",
    "its axes. These gates are parameterized by an angle.\n",
    "\n",
    "* **RZ**: Applies a rotation around the z-axis:\n",
    " $$RZ(\\theta) = \\begin{bmatrix}e^{-i \\theta \\over 2} & 0 \\\\ 0 & e^{i \\theta \\over 2}\\end{bmatrix}$$\n",
    "* **RY**: Applies a rotation around the y-axis:\n",
    " $$RY(\\theta) = \\begin{bmatrix}cos(\\theta) & -sin(\\theta) \\\\ sin(\\theta) & cos(\\theta)\\end{bmatrix}$$\n",
    "* **RX**: Applies a rotation around the x-axis:\n",
    " $$RX(\\theta) = \\begin{bmatrix}cos(\\theta) & -i\\cdot sin(\\theta) \\\\ -i\\cdot sin(\\theta) & cos(\\theta)\\end{bmatrix}$$\n",
    "\n",
    "The rotation gates are parameterized by an angle θ, which can be any real number. The gate applies a rotation of θ around the specified\n",
    "axis. "
   ]
  },
  {
   "cell_type": "code",
   "execution_count": 20,
   "id": "559fac6a-ab54-4c43-9679-4cb4dd146bd3",
   "metadata": {},
   "outputs": [
    {
     "name": "stdout",
     "output_type": "stream",
     "text": [
      "[6.123234e-17+0.j 0.000000e+00-1.j]\n",
      "[6.123234e-17+0.j 0.000000e+00-1.j]\n"
     ]
    }
   ],
   "source": [
    "dev = qml.device(\"default.qubit\", wires=1)\n",
    "\n",
    "@qml.qnode(dev)\n",
    "def apply_rx_pi(state):\n",
    "    # APPLY RX(pi) AND RETURN THE STATE\n",
    "    qml.RX(qml.numpy.pi, 0)\n",
    "    return qml.state()\n",
    "\n",
    "print(apply_rx_pi(0))\n",
    "print(apply_rx_pi(1))"
   ]
  },
  {
   "cell_type": "code",
   "execution_count": 21,
   "id": "9dd47bbb-5002-43c1-8480-287bc3fbf460",
   "metadata": {},
   "outputs": [],
   "source": [
    "dev = qml.device(\"default.qubit\", wires=1)\n",
    "\n",
    "\n",
    "@qml.qnode(dev)\n",
    "def apply_rx(theta, state):\n",
    "    # APPLY RX(theta) AND RETURN THE STATE\n",
    "    qml.RX(theta, 0)\n",
    "    return qml.state()\n",
    "\n",
    "# Code for plotting\n",
    "angles = np.linspace(0, 4 * np.pi, 200)\n",
    "output_states = np.array([apply_rx(t, 0) for t in angles])"
   ]
  },
  {
   "cell_type": "code",
   "execution_count": 22,
   "id": "a81c50d7-9a17-4606-a7b6-88fdc7ce0803",
   "metadata": {},
   "outputs": [],
   "source": [
    "dev = qml.device(\"default.qubit\", wires=1)\n",
    "\n",
    "@qml.qnode(dev)\n",
    "def apply_ry(theta, state):\n",
    "    if state == 1:\n",
    "        qml.PauliX(wires=0)\n",
    "    # APPLY RY(theta) AND RETURN THE STATE\n",
    "    qml.RY(theta, wires=0)\n",
    "    return qml.state()\n",
    "\n",
    "# Code for plotting\n",
    "angles = np.linspace(0, 4 * np.pi, 200)\n",
    "output_states = np.array([apply_ry(t, 0) for t in angles])"
   ]
  },
  {
   "cell_type": "markdown",
   "id": "d373ca1c-d65a-4fd4-b965-b5b1a2e6724b",
   "metadata": {},
   "source": [
    "# Universal Gate Sets"
   ]
  },
  {
   "cell_type": "markdown",
   "id": "d08dfa2f-70b0-471a-a2eb-3dff69a6efe2",
   "metadata": {},
   "source": [
    "These sets represent a collection of quantum gates that can be used to approximate any unitary operation on a \n",
    "quantum computer to any desired level of accuracy. Some examples of universal gate sets for single qubit gates are:\n",
    "* $\\{RZ, RY\\}$\n",
    "* $\\{H, T\\}$\n"
   ]
  },
  {
   "cell_type": "code",
   "execution_count": 23,
   "id": "b164c668-7687-4f4e-a571-ecdbf08ec59a",
   "metadata": {},
   "outputs": [],
   "source": [
    "dev = qml.device(\"default.qubit\", wires=1)\n",
    "# ADJUST THE VALUES OF PHI, THETA, AND OMEGA\n",
    "phi, theta, omega = qml.numpy.pi/2, qml.numpy.pi/2, qml.numpy.pi/2\n",
    "\n",
    "@qml.qnode(dev)\n",
    "def hadamard_with_rz_rx():\n",
    "    qml.RZ(phi, wires=0)\n",
    "    qml.RX(theta, wires=0)\n",
    "    qml.RZ(omega, wires=0)\n",
    "    return qml.state()"
   ]
  },
  {
   "cell_type": "code",
   "execution_count": 24,
   "id": "b525eb2d-94d9-4ba2-b789-d417e1fee4ed",
   "metadata": {},
   "outputs": [],
   "source": [
    "dev = qml.device(\"default.qubit\", wires=1)\n",
    "\n",
    "@qml.qnode(dev)\n",
    "def convert_to_rz_rx():\n",
    "    # IMPLEMENT THE CIRCUIT IN THE PICTURE USING ONLY RZ AND RX\n",
    "    qml.RZ(qml.numpy.pi/2, wires=0)\n",
    "    qml.RX(qml.numpy.pi/2, wires=0)\n",
    "    qml.RZ(qml.numpy.pi/4, wires=0)\n",
    "    qml.RX(-qml.numpy.pi, wires=0)\n",
    "    qml.RZ(qml.numpy.pi/2, wires=0)\n",
    "    return qml.state()"
   ]
  },
  {
   "cell_type": "code",
   "execution_count": 25,
   "id": "f356525e-2956-40fb-8796-1827889a0890",
   "metadata": {},
   "outputs": [],
   "source": [
    "dev = qml.device(\"default.qubit\", wires=1)\n",
    "\n",
    "@qml.qnode(dev)\n",
    "def unitary_with_h_and_t():\n",
    "    # APPLY ONLY H AND T TO PRODUCE A CIRCUIT THAT EFFECTS THE GIVEN MATRIX\n",
    "    qml.Hadamard(wires=0)\n",
    "    qml.T(wires=0)\n",
    "    qml.Hadamard(wires=0)\n",
    "    qml.T(wires=0)\n",
    "    qml.T(wires=0)\n",
    "    qml.Hadamard(wires=0)\n",
    "    return qml.state()"
   ]
  },
  {
   "cell_type": "markdown",
   "id": "41b5963d-c78e-4aa3-a1a5-3e7103bd526f",
   "metadata": {},
   "source": [
    "# Prepare Yourself"
   ]
  },
  {
   "cell_type": "markdown",
   "id": "636dfff8-6194-49d3-bfb5-c12712c97431",
   "metadata": {},
   "source": [
    "State preparation refers to the process of preparing a quantum system in a specific state. This can be thought of as initializing the quantum system to have a particular probability distribution over all possible states.\n",
    "\n",
    "State preparation is an essential step in almost every quantum algorithm and protocol. It involves applying a sequence of quantum gates (such as `rotations`, `Hadamard` gates, or `CNOT` gates) to the quantum system to prepare it in the desired state."
   ]
  },
  {
   "cell_type": "code",
   "execution_count": 26,
   "id": "d6f151fe-331a-46a8-b0a7-78c36b39d744",
   "metadata": {},
   "outputs": [],
   "source": [
    "dev = qml.device(\"default.qubit\", wires=1)\n",
    "\n",
    "@qml.qnode(dev)\n",
    "def prepare_state():\n",
    "    # APPLY OPERATIONS TO PREPARE THE TARGET STATE\n",
    "    qml.Hadamard(wires=0)\n",
    "    qml.RZ(qml.numpy.pi*5/4,wires=0)\n",
    "\n",
    "    return qml.state()"
   ]
  },
  {
   "cell_type": "code",
   "execution_count": 27,
   "id": "1221962d-9aa4-4324-9d3d-7ea25e862d26",
   "metadata": {},
   "outputs": [],
   "source": [
    "dev = qml.device(\"default.qubit\", wires=1)\n",
    "\n",
    "@qml.qnode(dev)\n",
    "def prepare_state():\n",
    "    # APPLY OPERATIONS TO PREPARE THE TARGET STATE\n",
    "    qml.Hadamard(wires=0)\n",
    "    qml.RZ(np.pi/3,wires=0)\n",
    "    qml.Hadamard(wires=0)\n",
    "    return qml.state()\n"
   ]
  },
  {
   "cell_type": "code",
   "execution_count": 28,
   "id": "dc8aa5f0-a14b-4dbc-9438-c2e18d35b086",
   "metadata": {},
   "outputs": [
    {
     "name": "stdout",
     "output_type": "stream",
     "text": [
      "[0.52889389-0.14956775j 0.67262317+0.49545818j]\n",
      "\n",
      "0: ──RY(1.98)──RZ(0.91)──GlobalPhase(-0.18)─┤  State\n"
     ]
    }
   ],
   "source": [
    "v = np.array([0.52889389 - 0.14956775j, 0.67262317 + 0.49545818j])\n",
    "# CREATE A DEVICE\n",
    "dev = qml.device(\"default.qubit\", wires=1)\n",
    "\n",
    "# CONSTRUCT A QNODE THAT USES qml.MottonenStatePreparation\n",
    "# TO PREPARE A QUBIT IN STATE V, AND RETURN THE STATE\n",
    "\n",
    "@qml.qnode(dev)\n",
    "def prepare_state(state=v):\n",
    "    qml.MottonenStatePreparation(state, wires=0)\n",
    "    return qml.state()\n",
    "\n",
    "# This will draw the quantum circuit and allow you to inspect the output gates\n",
    "print(prepare_state(v))\n",
    "print()\n",
    "print(qml.draw(prepare_state, expansion_strategy=\"device\")(v))"
   ]
  },
  {
   "cell_type": "markdown",
   "id": "52169dae-5be5-4c9e-b01e-78ee2a3a1474",
   "metadata": {},
   "source": [
    "# Measurements"
   ]
  },
  {
   "cell_type": "markdown",
   "id": "4d6e13fd-83cb-4537-8600-d17902d89118",
   "metadata": {},
   "source": [
    "**Quantum Measurement**\n",
    "\n",
    "In quantum mechanics, a measurement is the process of collapsing the wave function of a quantum system into one of its possible\n",
    "eigenstates. This is typically achieved by interacting with the system in such a way that it causes the wave function to collapse.\n",
    "\n",
    "When we measure a quantum state, we are essentially asking which basis (or set of orthogonal states) the system is currently in. For example,\n",
    "if we have a qubit in a superposition of $|0\\rangle$ and $|1\\rangle$ states ($|+\\rangle$ state), measuring it will cause it to collapse into either $|0\\rangle$ or $|1\\rangle$ with equal probability."
   ]
  },
  {
   "cell_type": "code",
   "execution_count": 29,
   "id": "7914f99d-d866-4016-b79e-b830dba46eeb",
   "metadata": {},
   "outputs": [
    {
     "name": "stdout",
     "output_type": "stream",
     "text": [
      "[0.5 0.5]\n",
      "[0.5 0.5]\n"
     ]
    }
   ],
   "source": [
    "dev = qml.device(\"default.qubit\", wires=1)\n",
    "\n",
    "@qml.qnode(dev)\n",
    "def apply_h_and_measure(state):\n",
    "    if state == 1:\n",
    "        qml.PauliX(wires=0)\n",
    "    # APPLY HADAMARD AND MEASURE\n",
    "    qml.Hadamard(wires=0)\n",
    "    return qml.probs(wires=0)\n",
    "\n",
    "print(apply_h_and_measure(0))\n",
    "print(apply_h_and_measure(1))"
   ]
  },
  {
   "cell_type": "markdown",
   "id": "70e2fb73-0f8e-49ec-89fb-66c4feef2a66",
   "metadata": {},
   "source": [
    "**Measuring in Different Basis**\n",
    "\n",
    "When we measure a quantum state, we are typically measuring it in the standard basis ($|0\\rangle$ and $|1\\rangle$). However, there are situations where we might want to measure a qubit in a different basis. This can be achieved by applying a unitary transformation (such as a rotation gate) to the qubit before measurement."
   ]
  },
  {
   "cell_type": "code",
   "execution_count": 30,
   "id": "81b54e23-3122-4b09-ac36-5324a25816c5",
   "metadata": {},
   "outputs": [],
   "source": [
    "# WRITE A QUANTUM FUNCTION THAT PREPARES (1/2)|0> + i(sqrt(3)/2)|1>\n",
    "def prepare_psi():\n",
    "    qml.Hadamard(wires=0)\n",
    "    qml.RZ(-np.pi*2/3,wires=0)\n",
    "    qml.Hadamard(wires=0)\n",
    "\n",
    "# WRITE A QUANTUM FUNCTION THAT SENDS BOTH |0> TO |y_+> and |1> TO |y_->\n",
    "def y_basis_rotation():\n",
    "    qml.Hadamard(wires=0)\n",
    "    qml.S(wires=0)"
   ]
  },
  {
   "cell_type": "code",
   "execution_count": 31,
   "id": "f1a00843-c965-4a54-bcae-ffebd953cea9",
   "metadata": {},
   "outputs": [
    {
     "name": "stdout",
     "output_type": "stream",
     "text": [
      "[0.9330127 0.0669873]\n"
     ]
    }
   ],
   "source": [
    "dev = qml.device(\"default.qubit\", wires=1)\n",
    "\n",
    "@qml.qnode(dev)\n",
    "def measure_in_y_basis():\n",
    "    # PREPARE THE STATE\n",
    "    prepare_psi()\n",
    "    # PERFORM THE ROTATION BACK TO COMPUTATIONAL BASIS\n",
    "    qml.adjoint(y_basis_rotation)()\n",
    "    # RETURN THE MEASUREMENT OUTCOME PROBABILITIES\n",
    "    return qml.probs(wires=0)\n",
    "\n",
    "print(measure_in_y_basis())"
   ]
  },
  {
   "cell_type": "markdown",
   "id": "aa91467c-a064-4427-a64f-7766faa20b0b",
   "metadata": {},
   "source": [
    "# What Did You Expect?"
   ]
  },
  {
   "cell_type": "markdown",
   "id": "f19420a9-618a-418f-9a34-7564a1432d3b",
   "metadata": {},
   "source": [
    "**Observables**\n",
    "\n",
    "In quantum mechanics, an observable is a physical quantity that can be measured in a quantum system. Examples of observables include energy\n",
    "`E`, momentum `p`, position `x` and spin `S`. These quantities are represented by mathematical operators that act on the wave function of the system.\n",
    "\n",
    "When we measure an observable in a quantum system, we are essentially asking which eigenvalue of the operator corresponds (has a greater probability) to the actual value of the observable."
   ]
  },
  {
   "cell_type": "code",
   "execution_count": 32,
   "id": "f3fe1caf-3676-40ea-b3ac-ed0934a8727a",
   "metadata": {},
   "outputs": [
    {
     "name": "stdout",
     "output_type": "stream",
     "text": [
      "-0.7071067811865471\n"
     ]
    }
   ],
   "source": [
    "dev = qml.device(\"default.qubit\", wires=1)\n",
    "\n",
    "@qml.qnode(dev)\n",
    "def circuit():\n",
    "    # IMPLEMENT THE CIRCUIT IN THE PICTURE AND MEASURE PAULI Y\n",
    "    qml.RX(qml.numpy.pi/4,wires=0)\n",
    "    qml.Hadamard(wires=0)\n",
    "    qml.PauliZ(wires=0)\n",
    "    return qml.expval(qml.PauliY(wires=0))\n",
    "\n",
    "print(circuit())"
   ]
  },
  {
   "cell_type": "code",
   "execution_count": 33,
   "id": "74b663ba-94b1-48de-bc0d-06442f3dfe4d",
   "metadata": {},
   "outputs": [
    {
     "name": "stdout",
     "output_type": "stream",
     "text": [
      "[-0.7, -0.716, -0.7088, -0.70756, -0.707192]\n"
     ]
    }
   ],
   "source": [
    "# An array to store your results\n",
    "shot_results = []\n",
    "\n",
    "# Different numbers of shots\n",
    "shot_values = [100, 1000, 10000, 100000, 1000000]\n",
    "\n",
    "for shots in shot_values:\n",
    "    # CREATE A DEVICE, CREATE A QNODE, AND RUN IT\n",
    "    dev = qml.device(\"default.qubit\", wires=1, shots=shots)\n",
    "    \n",
    "    @qml.qnode(dev)\n",
    "    def circuit():\n",
    "        # IMPLEMENT THE CIRCUIT IN THE PICTURE AND MEASURE PAULI Y\n",
    "        qml.RX(qml.numpy.pi/4,wires=0)\n",
    "        qml.Hadamard(wires=0)\n",
    "        qml.PauliZ(wires=0)\n",
    "        return qml.expval(qml.PauliY(wires=0))\n",
    "\n",
    "    # STORE RESULT IN SHOT_RESULTS ARRAY\n",
    "    shot_results.append(circuit())\n",
    "\n",
    "print(qml.math.unwrap(shot_results))"
   ]
  },
  {
   "cell_type": "code",
   "execution_count": 34,
   "id": "e084f1ec-114f-4895-82cb-05c4a7b30069",
   "metadata": {},
   "outputs": [
    {
     "name": "stdout",
     "output_type": "stream",
     "text": [
      "-0.70688\n"
     ]
    }
   ],
   "source": [
    "dev = qml.device(\"default.qubit\", wires=1, shots=100000)\n",
    "\n",
    "@qml.qnode(dev)\n",
    "def circuit():\n",
    "    qml.RX(np.pi / 4, wires=0)\n",
    "    qml.Hadamard(wires=0)\n",
    "    qml.PauliZ(wires=0)\n",
    "    # RETURN THE MEASUREMENT SAMPLES OF THE CORRECT OBSERVABLE\n",
    "\n",
    "    return qml.sample(qml.PauliY(wires=0))\n",
    "\n",
    "def compute_expval_from_samples(samples):\n",
    "    estimated_expval = 0\n",
    "    # USE THE SAMPLES TO ESTIMATE THE EXPECTATION VALUE\n",
    "    estimated_expval = np.sum(samples)/len(samples)\n",
    "    return estimated_expval\n",
    "\n",
    "samples = circuit()\n",
    "print(compute_expval_from_samples(samples))"
   ]
  },
  {
   "cell_type": "markdown",
   "id": "257d61c2-56a9-48a0-874e-29e802a2d2df",
   "metadata": {},
   "source": [
    "The `variance_scaling` function analyzes how the variance of an expectation value changes as the number of measurements (shots) increases. It compares actual experimental results to theoretically estimated values, providing insight into the effect of shot count on quantum circuit outcomes."
   ]
  },
  {
   "cell_type": "code",
   "execution_count": 35,
   "id": "5b062ad2-be91-4735-b372-8684d733c3c0",
   "metadata": {},
   "outputs": [],
   "source": [
    "def variance_experiment(n_shots):\n",
    "    # To obtain a variance, we run the circuit multiple times at each shot value.\n",
    "    n_trials = 100\n",
    "\n",
    "    # CREATE A DEVICE WITH GIVEN NUMBER OF SHOTS\n",
    "    dev = qml.device(\"default.qubit\", wires=1, shots=n_shots)\n",
    "    # DECORATE THE CIRCUIT BELOW TO CREATE A QNODE\n",
    "    @qml.qnode(dev)\n",
    "    def circuit():\n",
    "        qml.Hadamard(wires=0)\n",
    "        return qml.expval(qml.PauliZ(wires=0))\n",
    "\n",
    "    # RUN THE QNODE N_TRIALS TIMES AND RETURN THE VARIANCE OF THE RESULTS\n",
    "    var = np.var([circuit() for i in range(n_trials)])\n",
    "    return var\n",
    "\n",
    "\n",
    "def variance_scaling(n_shots):\n",
    "    estimated_variance = 0\n",
    "\n",
    "    # ESTIMATE THE VARIANCE BASED ON SHOT NUMBER\n",
    "    estimated_variance = 1/n_shots\n",
    "    return estimated_variance\n",
    "\n",
    "\n",
    "# Various numbers of shots; you can change this\n",
    "shot_vals = [10, 20, 40, 100, 200, 400, 1000, 2000, 4000]\n",
    "\n",
    "# Used to plot your results\n",
    "results_experiment = [variance_experiment(shots) for shots in shot_vals]\n",
    "results_scaling = [variance_scaling(shots) for shots in shot_vals]"
   ]
  },
  {
   "cell_type": "markdown",
   "id": "0bf41074-0419-4971-9045-da57fafcedb1",
   "metadata": {},
   "source": [
    "# Multi-Qubit Systems"
   ]
  },
  {
   "cell_type": "markdown",
   "id": "b041fb19-a104-48f7-bda8-4c92b4ec77cf",
   "metadata": {},
   "source": [
    "**Tensor Product**\n",
    "\n",
    "In a multi-qubit system, each qubit can exist in one of two states: $|0\\rangle$ or $|1\\rangle$. When we have multiple qubits, we need to describe the state of all of them simultaneously.\n",
    "\n",
    "The tensor product is a way of combining two or more vectors (or operators) into a new vector (or operator). For qubits, it's used to\n",
    "combine their individual states into a single state that describes the entire system.\n",
    "\n",
    "Mathematically, if we have two qubits A and B with states $|0\\rangle_A$ and $|1\\rangle_B$ respectively, their tensor product is written as:\n",
    "\n",
    "$|\\psi \\rangle = |0\\rangle_A \\otimes |0\\rangle_B$\n",
    "\n",
    "This means that the state of qubit A ($|0\\rangle_A$) and the state of qubit B ($|1\\rangle_B$) are combined to form a new state $|\\psi \\rangle$, where each qubit's state is preserved.\n",
    "\n",
    "**Multi-qubit Basis**\n",
    "\n",
    "The multi-qubit basis is an extension of the single-qubit basis. For a single qubit, we have two states: $|0\\rangle_A$ and $|1\\rangle_A$. When we move to multiple qubits, we need a basis that can describe all possible combinations of states.\n",
    "\n",
    "One two-qubit basis is the computational basis, which consists of:\n",
    "\n",
    "$$|00\\rangle$$\n",
    "$$|01\\rangle$$\n",
    "$$|10\\rangle$$\n",
    "$$|11\\rangle$$\n",
    "\n",
    "Each state in this basis represents a specific combination of qubit states. For example, $|01\\rangle$ means that qubit $A$ is in state $|0\\rangle$ and qubit $B$ is in state $|1\\rangle$."
   ]
  },
  {
   "cell_type": "code",
   "execution_count": 36,
   "id": "6881711c-2234-4f1a-a851-f8f210f35e6f",
   "metadata": {},
   "outputs": [
    {
     "name": "stdout",
     "output_type": "stream",
     "text": [
      "Output state = [0.+0.j 0.+0.j 0.+0.j 1.+0.j 0.+0.j 0.+0.j 0.+0.j 0.+0.j]\n"
     ]
    }
   ],
   "source": [
    "num_wires = 3\n",
    "dev = qml.device(\"default.qubit\", wires=num_wires)\n",
    "\n",
    "@qml.qnode(dev)\n",
    "def make_basis_state(basis_id):\n",
    "    # CREATE THE BASIS STATE\n",
    "    pos = 0\n",
    "    for i in np.binary_repr(basis_id,num_wires):\n",
    "        if int(i):\n",
    "            qml.PauliX(wires=pos)\n",
    "        pos += 1\n",
    "    return qml.state()\n",
    "\n",
    "basis_id = 3\n",
    "print(f\"Output state = {make_basis_state(basis_id)}\")"
   ]
  },
  {
   "cell_type": "code",
   "execution_count": 37,
   "id": "7c8e64b7-3140-4f9a-9a98-f9a43369c9d2",
   "metadata": {},
   "outputs": [
    {
     "name": "stdout",
     "output_type": "stream",
     "text": [
      "(tensor(0., requires_grad=True), tensor(-1., requires_grad=True))\n"
     ]
    }
   ],
   "source": [
    "# Creates a device with *two* qubits\n",
    "dev = qml.device(\"default.qubit\", wires=2)\n",
    "\n",
    "@qml.qnode(dev)\n",
    "def two_qubit_circuit():\n",
    "    # PREPARE |+>|1>\n",
    "    qml.Hadamard(wires=0)\n",
    "    qml.PauliX(wires=1)\n",
    "    # RETURN TWO EXPECTATION VALUES, Y ON FIRST QUBIT, Z ON SECOND QUBIT\n",
    "    \n",
    "    return qml.expval(qml.PauliY(wires=0)), qml.expval(qml.PauliZ(wires=1))\n",
    "\n",
    "print(two_qubit_circuit())"
   ]
  },
  {
   "cell_type": "code",
   "execution_count": 38,
   "id": "5941f2ef-9f2e-4c31-aa8c-8ec118daf034",
   "metadata": {},
   "outputs": [
    {
     "name": "stdout",
     "output_type": "stream",
     "text": [
      "0.9999999999999996\n"
     ]
    }
   ],
   "source": [
    "dev = qml.device(\"default.qubit\", wires=2)\n",
    "\n",
    "@qml.qnode(dev)\n",
    "def create_one_minus():\n",
    "    # PREPARE |1>|->\n",
    "    qml.PauliX(wires=0)\n",
    "    qml.PauliX(wires=1)\n",
    "    qml.Hadamard(wires=1)\n",
    "    # RETURN A SINGLE EXPECTATION VALUE Z \\otimes X\n",
    "    return qml.expval(qml.PauliZ(wires=0) @ qml.PauliX(wires=1))\n",
    "\n",
    "print(create_one_minus())"
   ]
  },
  {
   "cell_type": "markdown",
   "id": "07c2cb0d-bb79-480f-9c77-e537a5e94c18",
   "metadata": {},
   "source": [
    "**Separable Operations**\n",
    "\n",
    "In the context of quantum computing, separable operations refer to any operation that can be written as a tensor product of individual operators acting on each qubit separately. In other words, if an operation O can be expressed as:\n",
    "\n",
    "$O = O_A \\otimes O_B$\n",
    "\n",
    "where $O_A$ and $O_B$ are operators acting on qubits A and B, respectively, then the operation O is said to be separable."
   ]
  },
  {
   "cell_type": "code",
   "execution_count": 39,
   "id": "8697ee55-d7d4-4103-8ea4-b7a39001e7c2",
   "metadata": {},
   "outputs": [],
   "source": [
    "dev = qml.device(\"default.qubit\", wires=2)\n",
    "\n",
    "@qml.qnode(dev)\n",
    "def circuit_1(theta):\n",
    "    qml.RX(theta, 0)\n",
    "    qml.RY(2*theta, 1)\n",
    "    \n",
    "    return qml.expval(qml.PauliZ(0)), qml.expval(qml.PauliZ(1))\n",
    "\n",
    "@qml.qnode(dev)\n",
    "def circuit_2(theta):\n",
    "    qml.RX(theta, 0)\n",
    "    qml.RY(2*theta, 1)\n",
    "    \n",
    "    return qml.expval(qml.PauliZ(0) @ qml.PauliZ(1))\n",
    "\n",
    "\n",
    "def zi_iz_combination(ZI_results, IZ_results):\n",
    "    combined_results = np.zeros(len(ZI_results))\n",
    "\n",
    "    combined_results = np.multiply(ZI_results, IZ_results)\n",
    "    return combined_results\n",
    "\n",
    "theta = np.linspace(0, 2 * np.pi, 100)\n",
    "\n",
    "# Run circuit 1, and process the results\n",
    "circuit_1_results = np.array([circuit_1(t) for t in theta])\n",
    "\n",
    "ZI_results = circuit_1_results[:, 0]\n",
    "IZ_results = circuit_1_results[:, 1]\n",
    "combined_results = zi_iz_combination(ZI_results, IZ_results)\n",
    "\n",
    "# Run circuit 2\n",
    "ZZ_results = np.array([circuit_2(t) for t in theta])"
   ]
  },
  {
   "cell_type": "markdown",
   "id": "a33c6fec-91a4-459e-8242-82e09049f493",
   "metadata": {},
   "source": [
    "# All Tied Up"
   ]
  },
  {
   "cell_type": "markdown",
   "id": "7ad1beb2-00d8-471d-9664-6aa3e15724e7",
   "metadata": {},
   "source": [
    "**Entangled States**\n",
    "\n",
    "In quantum mechanics, entangled states are a fundamental concept that goes beyond the classical understanding of probability and correlation. \n",
    "\n",
    "A classic example of entangled states is the Bell state:\n",
    "\n",
    "$$| \\psi \\rangle = {{(|00 \\rangle + |11 \\rangle)} \\over \\sqrt{2}}$$\n",
    "\n",
    "In this state, the qubits A and B are entangled such that measuring one qubit's state instantly determines the state of the other. If you measure qubit `A` to be $0$, then qubit `B` must be $0$ (and vice versa).\n",
    "\n",
    "**CNOT Gate**\n",
    "\n",
    "The CNOT gate is a controlled-NOT operation that flips the target qubit if the control qubit is in state 1. Here are the matrices for each possible combination:\n",
    "\n",
    "| Control Qubit | Target Qubit | Resulting State |\n",
    "| :--- | :---: | ---: |\n",
    "| $|0\\rangle$ |$|0\\rangle$  |$|00\\rangle$\n",
    "| $|0\\rangle$ |$|1\\rangle$  |$|01\\rangle$\n",
    "| $|1\\rangle$ |$|0\\rangle$  |$|11\\rangle$\n",
    "| $|1\\rangle$ |$|1\\rangle$  |$|10\\rangle$\n",
    "\n",
    "\n",
    "The matrix representation of the CNOT gate is:\n",
    "\n",
    "$$CNOT = \\begin{bmatrix} 1&0&0&0 \\\\ 0&1&0&0 \\\\ 0&0&0&1 \\\\ 0&0&1&0 \\end{bmatrix}$$\n",
    "\n",
    "**CZ Gate**\n",
    "\n",
    "The CZ gate, also known as the controlled-Z operation, applies a phase flip to the target qubit if the control qubit is in state 1. Here are the matrices for each possible combination:\n",
    "\n",
    "| Control Qubit | Target Qubit | Resulting State |\n",
    "| :--- | :---: | ---: |\n",
    "| $|0\\rangle$ |$|0\\rangle$  |$|00\\rangle$\n",
    "| $|0\\rangle$ |$|1\\rangle$  |$|01\\rangle$\n",
    "| $|1\\rangle$ |$|0\\rangle$  |$|10\\rangle$\n",
    "| $|1\\rangle$ |$|1\\rangle$  |$-|11\\rangle$\n",
    "\n",
    "The matrix representation of the CZ gate is:\n",
    "\n",
    "$$CZ = \\begin{bmatrix} 1&0&0&0 \\\\ 0&1&0&0 \\\\ 0&0&1&0 \\\\ 0&0&0&-1 \\end{bmatrix}$$"
   ]
  },
  {
   "cell_type": "code",
   "execution_count": 40,
   "id": "e52bb94b-ae6d-43a7-8d1b-7c39f2d06195",
   "metadata": {},
   "outputs": [
    {
     "name": "stdout",
     "output_type": "stream",
     "text": [
      "[1.+0.j 0.+0.j 0.+0.j 0.+0.j]\n"
     ]
    }
   ],
   "source": [
    "num_wires = 2\n",
    "dev = qml.device(\"default.qubit\", wires=num_wires)\n",
    "\n",
    "@qml.qnode(dev)\n",
    "def apply_cnot(basis_id):\n",
    "    # Prepare the basis state |basis_id>\n",
    "    bits = [int(x) for x in np.binary_repr(basis_id, width=num_wires)]\n",
    "    qml.BasisStatePreparation(bits, wires=[0, 1])\n",
    "\n",
    "    # APPLY THE CNOT\n",
    "    qml.CNOT(wires=[0, 1])\n",
    "    return qml.state()\n",
    "\n",
    "# REPLACE THE BIT STRINGS VALUES BELOW WITH THE CORRECT ONES\n",
    "cnot_truth_table = {\"00\": \"00\", \"01\": \"01\", \"10\": \"11\", \"11\": \"10\"}\n",
    "\n",
    "# Run your QNode with various inputs to help fill in your truth table\n",
    "print(apply_cnot(0))"
   ]
  },
  {
   "cell_type": "code",
   "execution_count": 41,
   "id": "e6690f7d-0e3d-48b5-a83a-018373c3278a",
   "metadata": {},
   "outputs": [
    {
     "name": "stdout",
     "output_type": "stream",
     "text": [
      "[0.70710678+0.j 0.        +0.j 0.        +0.j 0.70710678+0.j]\n"
     ]
    }
   ],
   "source": [
    "dev = qml.device(\"default.qubit\", wires=2)\n",
    "\n",
    "@qml.qnode(dev)\n",
    "def apply_h_cnot():\n",
    "    # APPLY THE OPERATIONS IN THE CIRCUIT\n",
    "    qml.Hadamard(0)\n",
    "    qml.CNOT([0,1])\n",
    "    return qml.state()\n",
    "\n",
    "\n",
    "print(apply_h_cnot())\n",
    "# SET THIS AS 'separable' OR 'entangled' BASED ON YOUR OUTCOME\n",
    "state_status = \"entangled\""
   ]
  },
  {
   "cell_type": "code",
   "execution_count": 42,
   "id": "0513c6d1-03c1-44c1-be38-e0d290392bb0",
   "metadata": {},
   "outputs": [
    {
     "name": "stdout",
     "output_type": "stream",
     "text": [
      "[5.00000000e-01 0.00000000e+00 0.00000000e+00 0.00000000e+00\n",
      " 4.98751041e-01 0.00000000e+00 1.23651067e-03 1.24480103e-05]\n"
     ]
    }
   ],
   "source": [
    "dev = qml.device(\"default.qubit\", wires=3)\n",
    "\n",
    "@qml.qnode(dev)\n",
    "def controlled_rotations(theta, phi, omega):\n",
    "    # APPLY THE OPERATIONS IN THE CIRCUIT AND RETURN MEASUREMENT PROBABILITIES\n",
    "    qml.Hadamard(0)\n",
    "    qml.CRX(theta, [0,1])\n",
    "    qml.CRY(phi, [1,2])\n",
    "    qml.CRZ(omega,[2,0])\n",
    "    return qml.probs()\n",
    "\n",
    "theta, phi, omega = 0.1, 0.2, 0.3\n",
    "print(controlled_rotations(theta, phi, omega))"
   ]
  },
  {
   "cell_type": "markdown",
   "id": "7cdff562-37b8-40bf-8658-ea3764b5677c",
   "metadata": {},
   "source": [
    "# We've Got It Under Control"
   ]
  },
  {
   "cell_type": "markdown",
   "id": "d32f7b0e-9102-4439-87df-3e39cbbc723a",
   "metadata": {},
   "source": [
    "**SWAP Gate**\n",
    "\n",
    "The SWAP gate is a quantum gate that swaps the states of two qubits. In other words, it exchanges the state of one qubit with the state of another.\n",
    "\n",
    "The matrix representation of the SWAP gate is:\n",
    "\n",
    "$$SWAP = \\begin{bmatrix} 1&0&0&0 \\\\ 0&0&1&0 \\\\ 0&1&0&0 \\\\ 0&0&0&1 \\end{bmatrix}$$\n",
    "\n",
    "**Toffoli Gate**\n",
    "\n",
    "The Toffoli gate, also known as the controlled-controlled-NOT (CCNOT) gate, is a quantum gate that flips the state of one qubit if both control qubits are in the state 1.\n",
    "\n",
    "If we consider three qubits `A`, `B` and `C`, the Toffoli gate would transform the states $|000\\rangle$, $|010\\rangle$, $|100\\rangle$ and $|110\\rangle$ as follows:\n",
    "\n",
    "|Control State | Target State | Resulting State |\n",
    "| :--- | :---: | ---: |\n",
    "| $|00\\rangle$ | $|0\\rangle$ |$|000\\rangle$\n",
    "| $|01\\rangle$ | $|0\\rangle$ |$|010\\rangle$\n",
    "| $|10\\rangle$ | $|0\\rangle$ |$|100\\rangle$\n",
    "| $|11\\rangle$ | $|0\\rangle$ |$|111\\rangle$\n",
    "\n",
    "The matrix representation of the Toffoli gate is:\n",
    "\n",
    "$$Toffoli = \\begin{bmatrix} 1&0&0&0&0&0&0&0 \\\\ 0&1&0&0&0&0&0&0 \\\\ 0&0&1&0&0&0&0&0 \\\\ 0&0&0&1&0&0&0&0 \\\\\n",
    "                            0&0&0&0&1&0&0&0 \\\\ 0&0&0&0&0&1&0&0 \\\\ 0&0&0&0&0&0&0&1 \\\\ 0&0&0&0&0&0&1&0 \\end{bmatrix}$$\n",
    "\n"
   ]
  },
  {
   "cell_type": "code",
   "execution_count": 43,
   "id": "0445a3d1-464e-4547-a55b-330139f1ba5b",
   "metadata": {},
   "outputs": [
    {
     "name": "stdout",
     "output_type": "stream",
     "text": [
      "True CZ output state [ 0.31622777+0.j  0.4472136 +0.j  0.54772256+0.j -0.63245553+0.j]\n",
      "Imposter CZ output state [ 0.31622777+0.j  0.4472136 +0.j  0.54772256+0.j -0.63245553+0.j]\n"
     ]
    }
   ],
   "source": [
    "dev = qml.device(\"default.qubit\", wires=2)\n",
    "\n",
    "# Prepare a two-qubit state; change up the angles if you like\n",
    "#phi, theta, omega = 1.2, 2.3, 3.4\n",
    "states = np.sqrt([0.1,0.2,0.3,0.4])\n",
    "\n",
    "@qml.qnode(device=dev)\n",
    "def true_cz(states):\n",
    "    #prepare_states(phi, theta, omega)\n",
    "    qml.StatePrep(states, wires=range(2))\n",
    "    # IMPLEMENT THE REGULAR CZ GATE HERE\n",
    "    qml.CZ([0, 1])\n",
    "    return qml.state()\n",
    "\n",
    "@qml.qnode(dev)\n",
    "def imposter_cz(states):\n",
    "    #prepare_states(phi, theta, omega)\n",
    "    qml.StatePrep(states, wires=range(2))\n",
    "    # IMPLEMENT CZ USING ONLY H AND CNOT\n",
    "    qml.Hadamard(1)\n",
    "    qml.CNOT([0, 1])\n",
    "    qml.Hadamard(1)\n",
    "    return qml.state()\n",
    "\n",
    "\n",
    "print(f\"True CZ output state {true_cz(states)}\")\n",
    "print(f\"Imposter CZ output state {imposter_cz(states)}\")"
   ]
  },
  {
   "cell_type": "code",
   "execution_count": 44,
   "id": "4a4817dc-70fe-4558-8b72-a1366536e9d8",
   "metadata": {},
   "outputs": [
    {
     "name": "stdout",
     "output_type": "stream",
     "text": [
      "Regular SWAP state = [0.31622777+0.j 0.54772256+0.j 0.4472136 +0.j 0.63245553+0.j]\n",
      "CNOT SWAP state = [0.31622777+0.j 0.54772256+0.j 0.4472136 +0.j 0.63245553+0.j]\n"
     ]
    }
   ],
   "source": [
    "dev = qml.device(\"default.qubit\", wires=2)\n",
    "\n",
    "# Prepare a two-qubit state; change up the angles if you like\n",
    "#phi, theta, omega = 1.2, 2.3, 3.4\n",
    "states = np.sqrt([0.1,0.2,0.3,0.4])\n",
    "\n",
    "@qml.qnode(dev)\n",
    "def apply_swap(states):\n",
    "    #prepare_states(phi, theta, omega)\n",
    "    qml.StatePrep(states, wires=range(2))\n",
    "    # IMPLEMENT THE REGULAR SWAP GATE HERE\n",
    "    qml.SWAP([0, 1])\n",
    "    return qml.state()\n",
    "\n",
    "@qml.qnode(dev)\n",
    "def apply_swap_with_cnots(states):\n",
    "    #prepare_states(phi, theta, omega)\n",
    "    qml.StatePrep(states, wires=range(2))\n",
    "    # IMPLEMENT THE SWAP GATE USING A SEQUENCE OF CNOTS\n",
    "    qml.CNOT([0, 1])\n",
    "    qml.CNOT([1, 0])\n",
    "    qml.CNOT([0, 1])\n",
    "    return qml.state()\n",
    "\n",
    "print(f\"Regular SWAP state = {apply_swap(states)}\")\n",
    "print(f\"CNOT SWAP state = {apply_swap_with_cnots(states)}\")"
   ]
  },
  {
   "cell_type": "code",
   "execution_count": 45,
   "id": "d49a436d-37c3-4e69-90c2-4a42ff173d1a",
   "metadata": {},
   "outputs": [
    {
     "name": "stdout",
     "output_type": "stream",
     "text": [
      "[0.5+0.j 0. +0.j 0.5+0.j 0. +0.j 0.5+0.j 0. +0.j 0.5+0.j 0. +0.j]\n",
      "[0.5+0.j 0. +0.j 0.5+0.j 0. +0.j 0.5+0.j 0.5+0.j 0. +0.j 0. +0.j]\n"
     ]
    }
   ],
   "source": [
    "dev = qml.device(\"default.qubit\", wires=3)\n",
    "\n",
    "# Prepare first qubit in |1>, and arbitrary states on the second two qubits\n",
    "#phi, theta, omega = 1.2, 2.3, 3.4\n",
    "states = np.array([0.5, 0.5, 0.5, 0.5])\n",
    "\n",
    "# A helper function just so you can visualize the initial state\n",
    "# before the controlled SWAP occurs.\n",
    "@qml.qnode(dev)\n",
    "def no_swap(states):\n",
    "    #prepare_states(phi, theta, omega)\n",
    "    qml.StatePrep(states, wires=range(2))\n",
    "    return qml.state()\n",
    "\n",
    "@qml.qnode(dev)\n",
    "def controlled_swap(states):\n",
    "    #prepare_states(phi, theta, omega)\n",
    "    qml.StatePrep(states, wires=range(2))\n",
    "    # PERFORM A CONTROLLED SWAP USING A SEQUENCE OF TOFFOLIS\n",
    "    qml.Toffoli([0, 1, 2])\n",
    "    qml.Toffoli([0, 2, 1])\n",
    "    qml.Toffoli([0, 1, 2])\n",
    "    return qml.state()\n",
    "\n",
    "print(no_swap(states))\n",
    "print(controlled_swap(states))"
   ]
  },
  {
   "cell_type": "code",
   "execution_count": 46,
   "id": "de9a50e8-236c-4b3b-be84-d4ab740af72d",
   "metadata": {},
   "outputs": [
    {
     "name": "stdout",
     "output_type": "stream",
     "text": [
      "[0.35355339+0.j 0.        +0.j 0.35355339+0.j 0.        +0.j\n",
      " 0.35355339+0.j 0.        +0.j 0.35355339+0.j 0.        +0.j\n",
      " 0.35355339+0.j 0.        +0.j 0.35355339+0.j 0.        +0.j\n",
      " 0.35355339+0.j 0.        +0.j 0.        +0.j 0.35355339+0.j]\n"
     ]
    }
   ],
   "source": [
    "dev = qml.device(\"default.qubit\", wires=4)\n",
    "\n",
    "@qml.qnode(dev)\n",
    "def four_qubit_mcx():\n",
    "    # IMPLEMENT THE CIRCUIT ABOVE USING A 4-QUBIT MULTI-CONTROLLED X\n",
    "    qml.Hadamard(0)\n",
    "    qml.Hadamard(1)\n",
    "    qml.Hadamard(2)\n",
    "    qml.MultiControlledX(wires=[0, 1, 2, 3])\n",
    "    return qml.state()\n",
    "\n",
    "print(four_qubit_mcx())"
   ]
  },
  {
   "cell_type": "code",
   "execution_count": 47,
   "id": "6f117fea-eae3-4864-bd70-e6baed7fa006",
   "metadata": {},
   "outputs": [],
   "source": [
    "# Wires 0, 1, 2 are the control qubits\n",
    "# Wire 3 is the auxiliary qubit\n",
    "# Wire 4 is the target\n",
    "dev = qml.device(\"default.qubit\", wires=5)\n",
    "\n",
    "@qml.qnode(dev)\n",
    "def four_qubit_mcx_only_tofs():\n",
    "    # We will initialize the control qubits in state |1> so you can see\n",
    "    # how the output state gets changed.\n",
    "    qml.PauliX(wires=0)\n",
    "    qml.PauliX(wires=1)\n",
    "    qml.PauliX(wires=2)\n",
    "\n",
    "    # IMPLEMENT A 3-CONTROLLED NOT WITH TOFFOLIS\n",
    "    qml.Toffoli([0, 1, 3])\n",
    "    qml.Toffoli([2, 3, 4])\n",
    "    qml.Toffoli([0, 1, 3])\n",
    "    return qml.state()\n",
    "\n",
    "# print(four_qubit_mcx_only_tofs())"
   ]
  },
  {
   "cell_type": "markdown",
   "id": "154e050a-3835-4107-8265-6cfc6c5d7530",
   "metadata": {},
   "source": [
    "# Multi-Qubit Gate Challenge"
   ]
  },
  {
   "cell_type": "code",
   "execution_count": 48,
   "id": "27ce0c4a-e2a0-4149-95e9-ef3b1b10c288",
   "metadata": {},
   "outputs": [
    {
     "name": "stdout",
     "output_type": "stream",
     "text": [
      "|ψ_+> = [0.70710678+0.j 0.        +0.j 0.        +0.j 0.70710678+0.j]\n",
      "|ψ_-> = [ 0.70710678+0.j  0.        +0.j  0.        +0.j -0.70710678+0.j]\n",
      "|ϕ_+> = [0.        +0.j 0.70710678+0.j 0.70710678+0.j 0.        +0.j]\n",
      "|ϕ_-> = [ 0.        +0.j  0.70710678+0.j -0.70710678+0.j  0.        +0.j]\n"
     ]
    }
   ],
   "source": [
    "dev = qml.device(\"default.qubit\", wires=2)\n",
    "\n",
    "# Starting from the state |00>, implement a PennyLane circuit\n",
    "# to construct each of the Bell basis states.\n",
    "\n",
    "@qml.qnode(dev)\n",
    "def prepare_psi_plus():\n",
    "    # PREPARE (1/sqrt(2)) (|00> + |11>)\n",
    "    qml.Hadamard(0)\n",
    "    qml.CNOT([0, 1])\n",
    "    return qml.state()\n",
    "\n",
    "\n",
    "@qml.qnode(dev)\n",
    "def prepare_psi_minus():\n",
    "    # PREPARE (1/sqrt(2)) (|00> - |11>)\n",
    "    qml.Hadamard(0)\n",
    "    qml.CNOT([0, 1])\n",
    "    qml.PauliZ(1)\n",
    "    return qml.state()\n",
    "\n",
    "\n",
    "@qml.qnode(dev)\n",
    "def prepare_phi_plus():\n",
    "    qml.Hadamard(0)\n",
    "    qml.CNOT([0, 1])\n",
    "    qml.PauliX(1)\n",
    "    # PREPARE  (1/sqrt(2)) (|01> + |10>)\n",
    "\n",
    "    return qml.state()\n",
    "\n",
    "@qml.qnode(dev)\n",
    "def prepare_phi_minus():\n",
    "    qml.Hadamard(0)\n",
    "    qml.CNOT([0, 1])\n",
    "    qml.PauliZ(1)\n",
    "    qml.PauliX(1)\n",
    "    # PREPARE  (1/sqrt(2)) (|01> - |10>)\n",
    "\n",
    "    return qml.state()\n",
    "\n",
    "psi_plus = prepare_psi_plus()\n",
    "psi_minus = prepare_psi_minus()\n",
    "phi_plus = prepare_phi_plus()\n",
    "phi_minus = prepare_phi_minus()\n",
    "\n",
    "# Uncomment to print results\n",
    "print(f\"|ψ_+> = {psi_plus}\")\n",
    "print(f\"|ψ_-> = {psi_minus}\")\n",
    "print(f\"|ϕ_+> = {phi_plus}\")\n",
    "print(f\"|ϕ_-> = {phi_minus}\")"
   ]
  },
  {
   "cell_type": "code",
   "execution_count": 49,
   "id": "3508a086-fc7c-41db-8e43-c4c7b744b75c",
   "metadata": {},
   "outputs": [
    {
     "name": "stdout",
     "output_type": "stream",
     "text": [
      "[ 0.        +0.j  0.        +0.j -0.70710678+0.j  0.70710678+0.j\n",
      "  0.        +0.j  0.        +0.j  0.        +0.j  0.        +0.j]\n"
     ]
    }
   ],
   "source": [
    "dev = qml.device(\"default.qubit\", wires=3)\n",
    "\n",
    "# State of first 2 qubits\n",
    "state = [0, 1]\n",
    "\n",
    "@qml.qnode(device=dev)\n",
    "def apply_control_sequence(state):\n",
    "    # Set up initial state of the first two qubits\n",
    "    if state[0] == 1:\n",
    "        qml.PauliX(wires=0)\n",
    "    if state[1] == 1:\n",
    "        qml.PauliX(wires=1)\n",
    "\n",
    "    # Set up initial state of the third qubit - use |->\n",
    "    # so we can see the effect on the output\n",
    "    qml.PauliX(wires=2)\n",
    "    qml.Hadamard(wires=2)\n",
    "\n",
    "    # IMPLEMENT THE MULTIPLEXER\n",
    "    # IF STATE OF FIRST TWO QUBITS IS 01, APPLY X TO THIRD QUBIT\n",
    "    qml.PauliX(0)\n",
    "    qml.Toffoli([0, 1, 2])\n",
    "    qml.PauliX(0)\n",
    "    # IF STATE OF FIRST TWO QUBITS IS 10, APPLY Z TO THIRD QUBIT\n",
    "    qml.PauliX(1)\n",
    "    qml.Hadamard(2)\n",
    "    qml.Toffoli([0, 1, 2])\n",
    "    qml.Hadamard(2)\n",
    "    qml.PauliX(1)\n",
    "    # IF STATE OF FIRST TWO QUBITS IS 11, APPLY Y TO THIRD QUBIT\n",
    "    qml.adjoint(qml.S)(2)\n",
    "    qml.Toffoli([0, 1, 2])\n",
    "    qml.S(2)\n",
    "    return qml.state()\n",
    "\n",
    "print(apply_control_sequence(state))"
   ]
  }
 ],
 "metadata": {
  "kernelspec": {
   "display_name": "venv",
   "language": "python",
   "name": "venv"
  },
  "language_info": {
   "codemirror_mode": {
    "name": "ipython",
    "version": 3
   },
   "file_extension": ".py",
   "mimetype": "text/x-python",
   "name": "python",
   "nbconvert_exporter": "python",
   "pygments_lexer": "ipython3",
   "version": "3.11.9"
  }
 },
 "nbformat": 4,
 "nbformat_minor": 5
}
